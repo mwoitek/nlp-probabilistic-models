{
 "cells": [
  {
   "cell_type": "markdown",
   "metadata": {},
   "source": [
    "# Language Models: Auto-Complete\n",
    "\n",
    "In this assignment, you will build an auto-complete system.  Auto-complete\n",
    "system is something you may see every day\n",
    "- When you google something, you often have suggestions to help you complete\n",
    "your search.\n",
    "- When you are writing an email, you get suggestions telling you possible\n",
    "endings to your sentence.\n",
    "\n",
    "By the end of this assignment, you will develop a prototype of such a system.\n",
    "\n",
    "<img src = \"stanford.png\" style=\"width:700px;height:300px;\"/>\n",
    "\n",
    "## Outline\n",
    "- [1 Load and Preprocess Data](#1)\n",
    "- [1.1: Load the data](#1.1)\n",
    "- [1.2 Pre-process the data](#1.2)\n",
    "    - [Exercise 01](#ex-01)\n",
    "    - [Exercise 02](#ex-02)\n",
    "    - [Exercise 03](#ex-03)\n",
    "    - [Exercise 04](#ex-04)\n",
    "    - [Exercise 05](#ex-05)\n",
    "    - [Exercise 06](#ex-06)\n",
    "    - [Exercise 07](#ex-07)\n",
    "- [2 Develop n-gram based language models](#2)\n",
    "    - [Exercise 08](#ex-08)\n",
    "    - [Exercise 09](#ex-09)\n",
    "- [3 Perplexity](#3)\n",
    "    - [Exercise 10](#ex-10)\n",
    "- [4 Build an auto-complete system](#4)\n",
    "    - [Exercise 11](#ex-11)\n",
    "\n",
    "A key building block for an auto-complete system is a language model.\n",
    "A language model assigns the probability to a sequence of words, in a way that\n",
    "more \"likely\" sequences receive higher scores.  For example,\n",
    ">\"I have a pen\"\n",
    "is expected to have a higher probability than\n",
    ">\"I am a pen\"\n",
    "since the first one seems to be a more natural sentence in the real world.\n",
    "\n",
    "You can take advantage of this probability calculation to develop an auto-\n",
    "complete system.\n",
    "Suppose the user typed\n",
    ">\"I eat scrambled\"\n",
    "Then you can find a word `x`  such that \"I eat scrambled x\" receives the highest\n",
    "probability.  If x = \"eggs\", the sentence would be\n",
    ">\"I eat scrambled eggs\"\n",
    "\n",
    "While a variety of language models have been developed, this assignment uses\n",
    "**N-grams**, a simple but powerful method for language modeling.\n",
    "- N-grams are also used in machine translation and speech recognition.\n",
    "\n",
    "\n",
    "Here are the steps of this assignment:\n",
    "\n",
    "1. Load and preprocess data\n",
    "    - Load and tokenize data.\n",
    "    - Split the sentences into train and test sets.\n",
    "    - Replace words with a low frequency by an unknown marker `<unk>`.\n",
    "1. Develop N-gram based language models\n",
    "    - Compute the count of n-grams from a given data set.\n",
    "    - Estimate the conditional probability of a next word with k-smoothing.\n",
    "1. Evaluate the N-gram models by computing the perplexity score.\n",
    "1. Use your own model to suggest an upcoming word given your sentence."
   ]
  },
  {
   "cell_type": "code",
   "execution_count": null,
   "metadata": {},
   "outputs": [],
   "source": [
    "import math\n",
    "import nltk\n",
    "nltk.data.path.append('.')\n",
    "import numpy as np\n",
    "import pandas as pd\n",
    "import random"
   ]
  },
  {
   "cell_type": "markdown",
   "metadata": {},
   "source": [
    "<a name='1'></a>\n",
    "## Part 1: Load and Preprocess Data\n",
    "\n",
    "<a name='1.1'></a>\n",
    "### Part 1.1: Load the data\n",
    "You will use twitter data.\n",
    "Load the data and view the first few sentences by running the next cell.\n",
    "\n",
    "Notice that data is a long string that contains many many tweets.\n",
    "Observe that there is a line break \"\\n\" between tweets."
   ]
  },
  {
   "cell_type": "code",
   "execution_count": null,
   "metadata": {},
   "outputs": [],
   "source": [
    "with open(\"en_US.twitter.txt\", \"r\") as f:\n",
    "    data = f.read()\n",
    "print(\"Data type:\", type(data))\n",
    "print(\"Number of letters:\", len(data))\n",
    "print(\"First 300 letters of the data:\")\n",
    "display(data[:300])\n",
    "print()\n",
    "print(\"Last 300 letters of the data:\")\n",
    "display(data[-300:])"
   ]
  },
  {
   "cell_type": "markdown",
   "metadata": {},
   "source": [
    "<a name='1.2'></a>\n",
    "### Part 1.2 Pre-process the data\n",
    "\n",
    "Preprocess this data with the following steps:\n",
    "\n",
    "1. Split data into sentences using \"\\n\" as the delimiter.\n",
    "1. Split each sentence into tokens. Note that in this assignment we use \"token\"\n",
    "and \"words\" interchangeably.\n",
    "1. Assign sentences into train or test sets.\n",
    "1. Find tokens that appear at least N times in the training data.\n",
    "1. Replace tokens that appear less than N times by `<unk>`\n",
    "\n",
    "\n",
    "Note: we omit validation data in this exercise.\n",
    "- In real applications, we should hold a part of data as a validation set and\n",
    "use it to tune our training.\n",
    "- We skip this process for simplicity.\n",
    "\n",
    "<a name='ex-01'></a>\n",
    "### Exercise 01\n",
    "\n",
    "Split data into sentences.\n",
    "\n",
    "<details>\n",
    "<summary>\n",
    "    <font size=\"3\" color=\"darkgreen\"><b>Hints</b></font>\n",
    "</summary>\n",
    "<p>\n",
    "<ul>\n",
    "    <li> Use <a\n",
    "href=\"https://docs.python.org/3/library/stdtypes.html?highlight=split#str.split\"\n",
    ">str.split</a> </li>\n",
    "</ul>\n",
    "</p>"
   ]
  },
  {
   "cell_type": "code",
   "execution_count": null,
   "metadata": {},
   "outputs": [],
   "source": [
    "# UNQ_C1 (UNIQUE CELL IDENTIFIER, DO NOT EDIT)\n",
    "### GRADED_FUNCTION: split_to_sentences ###\n",
    "def split_to_sentences(data):\n",
    "    \"\"\"\n",
    "    Arguments:\n",
    "    data: Single string containing several sentences.\n",
    "\n",
    "    Returns:\n",
    "    sentences: List of sentences (strings).\n",
    "    \"\"\"\n",
    "\n",
    "    # Split data by line break \"\\n\":\n",
    "    sentences = data.split(\"\\n\")\n",
    "\n",
    "    # Remove leading and trailing spaces from each sentence:\n",
    "    sentences = [s.strip() for s in sentences]\n",
    "\n",
    "    # Drop sentences if they are empty strings:\n",
    "    sentences = [s for s in sentences if s != \"\"]\n",
    "\n",
    "    return sentences"
   ]
  },
  {
   "cell_type": "code",
   "execution_count": null,
   "metadata": {},
   "outputs": [],
   "source": [
    "# Test the function:\n",
    "x = \"I have a pen.\\nI have an apple. \\nAh\\nApple pen.\\n\"\n",
    "print(x)\n",
    "split_to_sentences(x)"
   ]
  },
  {
   "cell_type": "markdown",
   "metadata": {},
   "source": [
    "Expected answer:"
   ]
  },
  {
   "cell_type": "code",
   "execution_count": null,
   "metadata": {
    "attributes": {
     "classes": [
      "CPP"
     ],
     "id": ""
    }
   },
   "outputs": [],
   "source": [
    "['I have a pen.', 'I have an apple.', 'Ah', 'Apple pen.']"
   ]
  },
  {
   "cell_type": "markdown",
   "metadata": {},
   "source": [
    "<a name='ex-02'></a>\n",
    "### Exercise 02\n",
    "The next step is to tokenize sentences (split a sentence into a list of words).\n",
    "- Convert all tokens into lower case so that words which are capitalized (for\n",
    "example, at the start of a sentence) in the original text are treated the same\n",
    "as the lowercase versions of the words.\n",
    "- Append each tokenized list of words into a list of tokenized sentences.\n",
    "\n",
    "<details>\n",
    "<summary>\n",
    "    <font size=\"3\" color=\"darkgreen\"><b>Hints</b></font>\n",
    "</summary>\n",
    "<p>\n",
    "<ul>\n",
    "    <li>Use <a\n",
    "href=\"https://docs.python.org/3/library/stdtypes.html?highlight=split#str.lower\"\n",
    ">str.lower</a> to convert strings to lowercase. </li>\n",
    "    <li>Please use <a\n",
    "href=\"https://www.nltk.org/api/nltk.tokenize.html#nltk.tokenize.punkt.PunktLanguageVars.word_tokenize\"\n",
    ">nltk.word_tokenize</a> to split sentences into tokens.</li>\n",
    "    <li>If you used str.split instead of nltk.word_tokenize, there are\n",
    "additional edge cases to handle, such as the punctuation (comma, period) that\n",
    "follows a word.</li>\n",
    "</ul>\n",
    "</p>"
   ]
  },
  {
   "cell_type": "code",
   "execution_count": null,
   "metadata": {},
   "outputs": [],
   "source": [
    "# UNQ_C2 (UNIQUE CELL IDENTIFIER, DO NOT EDIT)\n",
    "### GRADED_FUNCTION: tokenize_sentences ###\n",
    "def tokenize_sentences(sentences):\n",
    "    \"\"\"\n",
    "    Tokenize sentences.\n",
    "\n",
    "    Arguments:\n",
    "    sentences: List of sentences (strings).\n",
    "\n",
    "    Returns:\n",
    "    tokenized_sentences: List of lists of tokens.\n",
    "    \"\"\"\n",
    "\n",
    "    # Initialize the list of lists of tokens:\n",
    "    tokenized_sentences = []\n",
    "\n",
    "    # Go through each sentence:\n",
    "    for sentence in sentences:\n",
    "\n",
    "        # Convert sentence to lowercase:\n",
    "        sentence = sentence.lower()\n",
    "\n",
    "        # Convert sentence to a list of tokens:\n",
    "        tokenized = nltk.word_tokenize(sentence)\n",
    "\n",
    "        # Append this list of tokens to tokenized_sentences:\n",
    "        tokenized_sentences.append(tokenized)\n",
    "\n",
    "    return tokenized_sentences"
   ]
  },
  {
   "cell_type": "code",
   "execution_count": null,
   "metadata": {},
   "outputs": [],
   "source": [
    "# Test the function:\n",
    "sentences = [\"Sky is blue.\", \"Leaves are green.\", \"Roses are red.\"]\n",
    "tokenize_sentences(sentences)"
   ]
  },
  {
   "cell_type": "markdown",
   "metadata": {},
   "source": [
    "### Expected output"
   ]
  },
  {
   "cell_type": "code",
   "execution_count": null,
   "metadata": {
    "attributes": {
     "classes": [
      "CPP"
     ],
     "id": ""
    }
   },
   "outputs": [],
   "source": [
    "[['sky', 'is', 'blue', '.'],\n",
    " ['leaves', 'are', 'green', '.'],\n",
    " ['roses', 'are', 'red', '.']]"
   ]
  },
  {
   "cell_type": "markdown",
   "metadata": {},
   "source": [
    "<a name='ex-03'></a>\n",
    "### Exercise 03\n",
    "\n",
    "\n",
    "Use the two functions that you have just implemented to get the tokenized data.\n",
    "- split the data into sentences\n",
    "- tokenize those sentences"
   ]
  },
  {
   "cell_type": "code",
   "execution_count": null,
   "metadata": {},
   "outputs": [],
   "source": [
    "# UNQ_C3 (UNIQUE CELL IDENTIFIER, DO NOT EDIT)\n",
    "### GRADED_FUNCTION: get_tokenized_data ###\n",
    "def get_tokenized_data(data):\n",
    "    \"\"\"\n",
    "    Create a list of tokenized sentences.\n",
    "\n",
    "    Arguments:\n",
    "    data: Single string containing several sentences.\n",
    "\n",
    "    Returns:\n",
    "    tokenized_sentences: List of lists of tokens.\n",
    "    \"\"\"\n",
    "\n",
    "    # Get the sentences by splitting up the data by line break \"\\n\":\n",
    "    sentences = split_to_sentences(data)\n",
    "\n",
    "    # Get the list of lists of tokens by tokenizing the sentences:\n",
    "    tokenized_sentences = tokenize_sentences(sentences)\n",
    "\n",
    "    return tokenized_sentences"
   ]
  },
  {
   "cell_type": "code",
   "execution_count": null,
   "metadata": {},
   "outputs": [],
   "source": [
    "# Test the function:\n",
    "x = \"Sky is blue.\\nLeaves are green\\nRoses are red.\"\n",
    "get_tokenized_data(x)"
   ]
  },
  {
   "cell_type": "markdown",
   "metadata": {},
   "source": [
    "##### Expected outcome"
   ]
  },
  {
   "cell_type": "code",
   "execution_count": null,
   "metadata": {
    "attributes": {
     "classes": [
      "CPP"
     ],
     "id": ""
    }
   },
   "outputs": [],
   "source": [
    "[['sky', 'is', 'blue', '.'],\n",
    " ['leaves', 'are', 'green'],\n",
    " ['roses', 'are', 'red', '.']]"
   ]
  },
  {
   "cell_type": "markdown",
   "metadata": {},
   "source": [
    "### Split into train and test sets\n",
    "\n",
    "Now run the cell below to split data into training and test sets."
   ]
  },
  {
   "cell_type": "code",
   "execution_count": null,
   "metadata": {},
   "outputs": [],
   "source": [
    "tokenized_data = get_tokenized_data(data)\n",
    "\n",
    "random.seed(87)\n",
    "random.shuffle(tokenized_data)\n",
    "\n",
    "# Ratio corresponding to the percentage of the data used to create the training set:\n",
    "ratio = 0.8\n",
    "\n",
    "# Size of the training set:\n",
    "train_size = int(len(tokenized_data) * ratio)\n",
    "\n",
    "# Create the training set:\n",
    "train_data = tokenized_data[:train_size]\n",
    "\n",
    "# Create the test set:\n",
    "test_data = tokenized_data[train_size:]"
   ]
  },
  {
   "cell_type": "code",
   "execution_count": null,
   "metadata": {},
   "outputs": [],
   "source": [
    "# Size of the set of tokenized sentences:\n",
    "tokenized_sentences_size = len(tokenized_data)\n",
    "\n",
    "# Size of the test set:\n",
    "test_size = len(test_data)\n",
    "\n",
    "print(f\"Size of the set of tokenized sentences: {tokenized_sentences_size}\")\n",
    "print(\"Training and test split:\")\n",
    "print(f\"Size of the training set: {train_size}\")\n",
    "print(f\"Size of the test set: {test_size}\")\n",
    "\n",
    "print(\"First training sample:\")\n",
    "print(train_data[0])\n",
    "\n",
    "print(\"First test sample:\")\n",
    "print(test_data[0])"
   ]
  },
  {
   "cell_type": "markdown",
   "metadata": {},
   "source": [
    "##### Expected output"
   ]
  },
  {
   "cell_type": "code",
   "execution_count": null,
   "metadata": {
    "attributes": {
     "classes": [
      "CPP"
     ],
     "id": ""
    }
   },
   "outputs": [],
   "source": [
    "47961 data are split into 38368 train and 9593 test set\n",
    "First training sample:\n",
    "['i', 'personally', 'would', 'like', 'as', 'our', 'official', 'glove', 'of',\n",
    "'the', 'team', 'local', 'company', 'and', 'quality', 'production']\n",
    "First test sample\n",
    "['that', 'picture', 'i', 'just', 'seen', 'whoa', 'dere', '!', '!', '>', '>',\n",
    "'>', '>', '>', '>', '>']"
   ]
  },
  {
   "cell_type": "markdown",
   "metadata": {},
   "source": [
    "<a name='ex-04'></a>\n",
    "### Exercise 04\n",
    "\n",
    "You won't use all the tokens (words) appearing in the data for training.\n",
    "Instead, you will use the more frequently used words.\n",
    "- You will focus on the words that appear at least N times in the data.\n",
    "- First count how many times each word appears in the data.\n",
    "\n",
    "You will need a double for-loop, one for sentences and the other for tokens\n",
    "within a sentence.\n",
    "\n",
    "<details>\n",
    "<summary>\n",
    "    <font size=\"3\" color=\"darkgreen\"><b>Hints</b></font>\n",
    "</summary>\n",
    "<p>\n",
    "<ul>\n",
    "    <li>If you decide to import and use defaultdict, remember to cast the\n",
    "dictionary back to a regular 'dict' before returning it. </li>\n",
    "</ul>\n",
    "</p>"
   ]
  },
  {
   "cell_type": "code",
   "execution_count": null,
   "metadata": {},
   "outputs": [],
   "source": [
    "# UNQ_C4 (UNIQUE CELL IDENTIFIER, DO NOT EDIT)\n",
    "### GRADED_FUNCTION: count_words ###\n",
    "def count_words(tokenized_sentences):\n",
    "    \"\"\"\n",
    "    Count the number of word occurrences in the tokenized sentences.\n",
    "\n",
    "    Arguments:\n",
    "    tokenized_sentences: List of lists of tokens.\n",
    "\n",
    "    Returns:\n",
    "    word_counts: Dictionary mapping a word to its frequency.\n",
    "    \"\"\"\n",
    "\n",
    "    word_counts = {}\n",
    "\n",
    "    # Loop through each sentence:\n",
    "    for sentence in tokenized_sentences:\n",
    "\n",
    "        # Loop through each token in the sentence:\n",
    "        for token in sentence:\n",
    "\n",
    "            # If the token is not in the dictionary yet, set the count to 1:\n",
    "            if token not in word_counts:\n",
    "                word_counts[token] = 1\n",
    "\n",
    "            # If the token is already in the dictionary, increment the count by 1:\n",
    "            else:\n",
    "                word_counts[token] += 1\n",
    "\n",
    "    return word_counts"
   ]
  },
  {
   "cell_type": "code",
   "execution_count": null,
   "metadata": {},
   "outputs": [],
   "source": [
    "# Test the function:\n",
    "tokenized_sentences = [\n",
    "    [\"sky\", \"is\", \"blue\", \".\"],\n",
    "    [\"leaves\", \"are\", \"green\", \".\"],\n",
    "    [\"roses\", \"are\", \"red\", \".\"]\n",
    "]\n",
    "count_words(tokenized_sentences)"
   ]
  },
  {
   "cell_type": "markdown",
   "metadata": {},
   "source": [
    "##### Expected output\n",
    "\n",
    "Note that the order may differ."
   ]
  },
  {
   "cell_type": "code",
   "execution_count": null,
   "metadata": {
    "attributes": {
     "classes": [
      "CPP"
     ],
     "id": ""
    }
   },
   "outputs": [],
   "source": [
    "{'sky': 1,\n",
    " 'is': 1,\n",
    " 'blue': 1,\n",
    " '.': 3,\n",
    " 'leaves': 1,\n",
    " 'are': 2,\n",
    " 'green': 1,\n",
    " 'roses': 1,\n",
    " 'red': 1}"
   ]
  },
  {
   "cell_type": "markdown",
   "metadata": {},
   "source": [
    "### Handling 'Out of Vocabulary' words\n",
    "\n",
    "If your model is performing autocomplete, but encounters a word that it never\n",
    "saw during training, it won't have an input word to help it determine the next\n",
    "word to suggest. The model will not be able to predict the next word because\n",
    "there are no counts for the current word.\n",
    "- This 'new' word is called an 'unknown word', or <b>out of vocabulary (OOV)</b>\n",
    "words.\n",
    "- The percentage of unknown words in the test set is called the <b> OOV </b>\n",
    "rate.\n",
    "\n",
    "To handle unknown words during prediction, use a special token to represent all\n",
    "unknown words 'unk'.\n",
    "- Modify the training data so that it has some 'unknown' words to train on.\n",
    "- Words to convert into \"unknown\" words are those that do not occur very\n",
    "frequently in the training set.\n",
    "- Create a list of the most frequent words in the training set, called the <b>\n",
    "closed vocabulary </b>.\n",
    "- Convert all the other words that are not part of the closed vocabulary to the\n",
    "token 'unk'.\n",
    "\n",
    "<a name='ex-05'></a>\n",
    "### Exercise 05\n",
    "\n",
    "You will now create a function that takes in a text document and a threshold\n",
    "`count_threshold`.\n",
    "- Any word whose count is greater than or equal to the threshold\n",
    "`count_threshold` is kept in the closed vocabulary.\n",
    "- Returns the word closed vocabulary list."
   ]
  },
  {
   "cell_type": "code",
   "execution_count": null,
   "metadata": {},
   "outputs": [],
   "source": [
    "# UNQ_C5 (UNIQUE CELL IDENTIFIER, DO NOT EDIT)\n",
    "### GRADED_FUNCTION: get_words_with_nplus_frequency ###\n",
    "def get_words_with_nplus_frequency(tokenized_sentences, count_threshold):\n",
    "    \"\"\"\n",
    "    Find the words that appear N times or more.\n",
    "\n",
    "    Arguments:\n",
    "    tokenized_sentences: List of lists of tokens.\n",
    "    count_threshold: Minimum number of occurrences for a word to be in the\n",
    "                     closed vocabulary.\n",
    "\n",
    "    Returns:\n",
    "    closed_vocab: List of words that appear N times or more.\n",
    "    \"\"\"\n",
    "\n",
    "    # Initialize the list that will store the words that appear at least\n",
    "    # \"count_threshold\" times:\n",
    "    closed_vocab = []\n",
    "\n",
    "    # Get the word counts from the tokenized sentences:\n",
    "    word_counts = count_words(tokenized_sentences)\n",
    "\n",
    "    # For each word and its count:\n",
    "    for word, cnt in word_counts.items():\n",
    "\n",
    "        # Check that count >= minimum count:\n",
    "        if cnt >= count_threshold:\n",
    "\n",
    "            # Append the word to the list:\n",
    "            closed_vocab.append(word)\n",
    "\n",
    "    return closed_vocab"
   ]
  },
  {
   "cell_type": "code",
   "execution_count": null,
   "metadata": {},
   "outputs": [],
   "source": [
    "# Test the function:\n",
    "tokenized_sentences = [\n",
    "    [\"sky\", \"is\", \"blue\", \".\"],\n",
    "    [\"leaves\", \"are\", \"green\", \".\"],\n",
    "    [\"roses\", \"are\", \"red\", \".\"]\n",
    "]\n",
    "tmp_closed_vocab = get_words_with_nplus_frequency(tokenized_sentences, count_threshold=2)\n",
    "print(\"Closed vocabulary:\")\n",
    "print(tmp_closed_vocab)"
   ]
  },
  {
   "cell_type": "markdown",
   "metadata": {},
   "source": [
    "##### Expected output"
   ]
  },
  {
   "cell_type": "code",
   "execution_count": null,
   "metadata": {
    "attributes": {
     "classes": [
      "CPP"
     ],
     "id": ""
    }
   },
   "outputs": [],
   "source": [
    "Closed vocabulary:\n",
    "['.', 'are']"
   ]
  },
  {
   "cell_type": "markdown",
   "metadata": {},
   "source": [
    "<a name='ex-06'></a>\n",
    "### Exercise 06\n",
    "\n",
    "The words that appear `count_threshold` times or more are in the closed\n",
    "vocabulary.\n",
    "- All other words are regarded as `unknown`.\n",
    "- Replace words not in the closed vocabulary with the token `<unk>`."
   ]
  },
  {
   "cell_type": "code",
   "execution_count": null,
   "metadata": {},
   "outputs": [],
   "source": [
    "# UNQ_C6 (UNIQUE CELL IDENTIFIER, DO NOT EDIT)\n",
    "### GRADED_FUNCTION: replace_oov_words_by_unk ###\n",
    "def replace_oov_words_by_unk(tokenized_sentences, vocabulary, unknown_token=\"<unk>\"):\n",
    "    \"\"\"\n",
    "    Replace words not in the given vocabulary with \"<unk>\" token.\n",
    "\n",
    "    Arguments:\n",
    "    tokenized_sentences: List of lists of tokens.\n",
    "    vocabulary: List of tokens in the closed vocabulary.\n",
    "    unknown_token: String representing unknown (out-of-vocabulary) words.\n",
    "\n",
    "    Returns:\n",
    "    replaced_tokenized_sentences: List of lists of tokens, with words not in\n",
    "                                  the vocabulary replaced.\n",
    "    \"\"\"\n",
    "\n",
    "    # Place vocabulary into a set for faster search:\n",
    "    vocabulary = set(vocabulary)\n",
    "\n",
    "    # Initialize a list that will hold the sentences after less frequent words\n",
    "    # are replaced by the unknown token:\n",
    "    replaced_tokenized_sentences = []\n",
    "\n",
    "    # Go through each sentence:\n",
    "    for sentence in tokenized_sentences:\n",
    "\n",
    "        # Initialize the list that will hold a single sentence with \"<unk>\" replacements:\n",
    "        replaced_sentence = []\n",
    "\n",
    "        # For each token in the sentence:\n",
    "        for token in sentence:\n",
    "\n",
    "            # Check if the token is in the closed vocabulary:\n",
    "            if token in vocabulary:\n",
    "                # If so, append the word to replaced_sentence:\n",
    "                replaced_sentence.append(token)\n",
    "            else:\n",
    "                # Otherwise, append the unknown token:\n",
    "                replaced_sentence.append(unknown_token)\n",
    "\n",
    "        # Append the list of tokens to the list of lists:\n",
    "        replaced_tokenized_sentences.append(replaced_sentence)\n",
    "\n",
    "    return replaced_tokenized_sentences"
   ]
  },
  {
   "cell_type": "code",
   "execution_count": null,
   "metadata": {},
   "outputs": [],
   "source": [
    "tokenized_sentences = [[\"dogs\", \"run\"], [\"cats\", \"sleep\"]]\n",
    "vocabulary = [\"dogs\", \"sleep\"]\n",
    "tmp_replaced_tokenized_sentences = replace_oov_words_by_unk(tokenized_sentences, vocabulary)\n",
    "print(\"Original sentences:\")\n",
    "print(tokenized_sentences)\n",
    "print(\"tokenized_sentences with less frequent words converted to '<unk>':\")\n",
    "print(tmp_replaced_tokenized_sentences)"
   ]
  },
  {
   "cell_type": "markdown",
   "metadata": {},
   "source": [
    "### Expected answer"
   ]
  },
  {
   "cell_type": "code",
   "execution_count": null,
   "metadata": {
    "attributes": {
     "classes": [
      "CPP"
     ],
     "id": ""
    }
   },
   "outputs": [],
   "source": [
    "Original sentence:\n",
    "[['dogs', 'run'], ['cats', 'sleep']]\n",
    "tokenized_sentences with less frequent words converted to '<unk>':\n",
    "[['dogs', '<unk>'], ['<unk>', 'sleep']]"
   ]
  },
  {
   "cell_type": "markdown",
   "metadata": {},
   "source": [
    "<a name='ex-07'></a>\n",
    "### Exercise 07\n",
    "\n",
    "Now we are ready to process our data by combining the functions that you just\n",
    "implemented.\n",
    "\n",
    "1. Find tokens that appear at least count_threshold times in the training data.\n",
    "1. Replace tokens that appear less than count_threshold times by \"<unk\\>\" both\n",
    "for training and test data."
   ]
  },
  {
   "cell_type": "code",
   "execution_count": null,
   "metadata": {},
   "outputs": [],
   "source": [
    "# UNQ_C7 (UNIQUE CELL IDENTIFIER, DO NOT EDIT)\n",
    "### GRADED_FUNCTION: preprocess_data ###\n",
    "def preprocess_data(train_data, test_data, count_threshold):\n",
    "    \"\"\"\n",
    "    Preprocess data, i.e.,\n",
    "    - find tokens that appear at least N times in the training data;\n",
    "    - replace tokens that appear less than N times by \"<unk>\" both for training and test data.\n",
    "\n",
    "    Arguments:\n",
    "    train_data: List of lists of tokens, training data.\n",
    "    test_data: List of lists of tokens, test data.\n",
    "    count_threshold: Minimum number of occurrences for a word to be in the\n",
    "                     closed vocabulary.\n",
    "\n",
    "    Returns:\n",
    "    train_data_replaced: Training data with less frequent words replaced with \"<unk>\".\n",
    "    test_data_replaced: Test data with less frequent words replaced with \"<unk>\".\n",
    "    vocabulary: Closed vocabulary.\n",
    "    \"\"\"\n",
    "\n",
    "    # Get the closed vocabulary using the training data:\n",
    "    vocabulary = get_words_with_nplus_frequency(train_data, count_threshold)\n",
    "\n",
    "    # For the training data, replace less frequent words with \"<unk>\":\n",
    "    train_data_replaced = replace_oov_words_by_unk(\n",
    "        train_data, vocabulary, unknown_token=\"<unk>\"\n",
    "    )\n",
    "\n",
    "    # For the test data, replace less frequent words with \"<unk>\":\n",
    "    test_data_replaced = replace_oov_words_by_unk(\n",
    "        test_data, vocabulary, unknown_token=\"<unk>\"\n",
    "    )\n",
    "\n",
    "    return train_data_replaced, test_data_replaced, vocabulary"
   ]
  },
  {
   "cell_type": "code",
   "execution_count": null,
   "metadata": {},
   "outputs": [],
   "source": [
    "# Test the function:\n",
    "tmp_train = [[\"sky\", \"is\", \"blue\", \".\"], [\"leaves\", \"are\", \"green\"]]\n",
    "tmp_test = [[\"roses\", \"are\", \"red\", \".\"]]\n",
    "tmp_train_repl, tmp_test_repl, tmp_vocab = preprocess_data(\n",
    "    tmp_train, tmp_test, count_threshold=1\n",
    ")\n",
    "print(\"tmp_train_repl:\")\n",
    "print(tmp_train_repl)\n",
    "print()\n",
    "print(\"tmp_test_repl:\")\n",
    "print(tmp_test_repl)\n",
    "print()\n",
    "print(\"tmp_vocab:\")\n",
    "print(tmp_vocab)"
   ]
  },
  {
   "cell_type": "markdown",
   "metadata": {},
   "source": [
    "##### Expected outcome"
   ]
  },
  {
   "cell_type": "code",
   "execution_count": null,
   "metadata": {
    "attributes": {
     "classes": [
      "CPP"
     ],
     "id": ""
    }
   },
   "outputs": [],
   "source": [
    "tmp_train_repl\n",
    "[['sky', 'is', 'blue', '.'], ['leaves', 'are', 'green']]\n",
    "\n",
    "tmp_test_repl\n",
    "[['<unk>', 'are', '<unk>', '.']]\n",
    "\n",
    "tmp_vocab\n",
    "['sky', 'is', 'blue', '.', 'leaves', 'are', 'green']"
   ]
  },
  {
   "cell_type": "markdown",
   "metadata": {},
   "source": [
    "### Preprocess the train and test data\n",
    "Run the cell below to complete the preprocessing both for training and test\n",
    "sets."
   ]
  },
  {
   "cell_type": "code",
   "execution_count": null,
   "metadata": {},
   "outputs": [],
   "source": [
    "minimum_freq = 2\n",
    "train_data_processed, test_data_processed, vocabulary = preprocess_data(\n",
    "    train_data, test_data, count_threshold=minimum_freq\n",
    ")"
   ]
  },
  {
   "cell_type": "code",
   "execution_count": null,
   "metadata": {},
   "outputs": [],
   "source": [
    "print(\"First preprocessed training sample:\")\n",
    "print(train_data_processed[0])\n",
    "print()\n",
    "print(\"First preprocessed test sample:\")\n",
    "print(test_data_processed[0])\n",
    "print()\n",
    "print(\"First 10 tokens in the closed vocabulary:\")\n",
    "print(vocabulary[:10])\n",
    "print()\n",
    "print(\"Size of the closed vocabulary:\", len(vocabulary))"
   ]
  },
  {
   "cell_type": "markdown",
   "metadata": {},
   "source": [
    "##### Expected output"
   ]
  },
  {
   "cell_type": "code",
   "execution_count": null,
   "metadata": {
    "attributes": {
     "classes": [
      "CPP"
     ],
     "id": ""
    }
   },
   "outputs": [],
   "source": [
    "First preprocessed training sample:\n",
    "['i', 'personally', 'would', 'like', 'as', 'our', 'official', 'glove', 'of',\n",
    "'the', 'team', 'local', 'company', 'and', 'quality', 'production']\n",
    "\n",
    "First preprocessed test sample:\n",
    "['that', 'picture', 'i', 'just', 'seen', 'whoa', 'dere', '!', '!', '>', '>',\n",
    "'>', '>', '>', '>', '>']\n",
    "\n",
    "First 10 vocabulary:\n",
    "['i', 'personally', 'would', 'like', 'as', 'our', 'official', 'glove', 'of',\n",
    "'the']\n",
    "\n",
    "Size of vocabulary: 14821"
   ]
  },
  {
   "cell_type": "markdown",
   "metadata": {},
   "source": [
    "You are done with the preprocessing section of the assignment.\n",
    "Objects `train_data_processed`, `test_data_processed`, and `vocabulary` will be\n",
    "used in the rest of the exercises.\n",
    "\n",
    "<a name='2'></a>\n",
    "## Part 2: Develop n-gram based language models\n",
    "\n",
    "In this section, you will develop the n-grams language model.\n",
    "- Assume the probability of the next word depends only on the previous n-gram.\n",
    "- The previous n-gram is the series of the previous 'n' words.\n",
    "\n",
    "The conditional probability for the word at position 't' in the sentence, given\n",
    "that the words preceding it are $w_{t-1}, w_{t-2} \\cdots w_{t-n}$ is:\n",
    "\n",
    "$$ P(w_t | w_{t-1}\\dots w_{t-n}) \\tag{1}$$\n",
    "\n",
    "You can estimate this probability  by counting the occurrences of these series\n",
    "of words in the training data.\n",
    "- The probability can be estimated as a ratio, where\n",
    "- The numerator is the number of times word 't' appears after words t-1 through\n",
    "t-n appear in the training data.\n",
    "- The denominator is the number of times word t-1 through t-n appears in the\n",
    "training data.\n",
    "\n",
    "$$ \\hat{P}(w_t | w_{t-1}\\dots w_{t-n}) = \\frac{C(w_{t-1}\\dots w_{t-n},\n",
    "w_n)}{C(w_{t-1}\\dots w_{t-n})} \\tag{2} $$\n",
    "\n",
    "- The function $C(\\cdots)$ denotes the number of occurence of the given\n",
    "sequence.\n",
    "- $\\hat{P}$ means the estimation of $P$.\n",
    "- Notice that denominator of the equation (2) is the number of occurence of the\n",
    "previous $n$ words, and the numerator is the same sequence followed by the word\n",
    "$w_t$.\n",
    "\n",
    "Later, you will modify the equation (2) by adding k-smoothing, which avoids\n",
    "errors when any counts are zero.\n",
    "\n",
    "The equation (2) tells us that to estimate probabilities based on n-grams, you\n",
    "need the counts of n-grams (for denominator) and (n+1)-grams (for numerator).\n",
    "\n",
    "<a name='ex-08'></a>\n",
    "### Exercise 08\n",
    "Next, you will implement a function that computes the counts of n-grams for an\n",
    "arbitrary number $n$.\n",
    "\n",
    "When computing the counts for n-grams, prepare the sentence beforehand by\n",
    "prepending $n-1$ starting markers \"<s\\>\" to indicate the beginning of the\n",
    "sentence.\n",
    "- For example, in the bi-gram model (N=2), a sequence with two start tokens\n",
    "\"<s\\><s\\>\" should predict the first word of a sentence.\n",
    "- So, if the sentence is \"I like food\", modify it to be \"<s\\><s\\> I like food\".\n",
    "- Also prepare the sentence for counting by appending an end token \"<e\\>\" so\n",
    "that the model can predict when to finish a sentence.\n",
    "\n",
    "Technical note: In this implementation, you will store the counts as a\n",
    "dictionary.\n",
    "- The key of each key-value pair in the dictionary is a **tuple** of n words\n",
    "(and not a list)\n",
    "- The value in the key-value pair is the number of occurrences.\n",
    "- The reason for using a tuple as a key instead of a list is because a list in\n",
    "Python is a mutable object (it can be changed after it is first created).  A\n",
    "tuple is \"immutable\", so it cannot be altered after it is first created.  This\n",
    "makes a tuple suitable as a data type for the key in a dictionary.\n",
    "\n",
    "<details>\n",
    "<summary>\n",
    "    <font size=\"3\" color=\"darkgreen\"><b>Hints</b></font>\n",
    "</summary>\n",
    "<p>\n",
    "<ul>\n",
    "    <li> To prepend or append, you can create lists and concatenate them using\n",
    "the + operator </li>\n",
    "    <li> To create a list of a repeated value, you can follow this syntax:\n",
    "<code>['a'] * 3</code> to get <code>['a','a','a']</code> </li>\n",
    "    <li>To set the range for index 'i', think of this example: An n-gram where\n",
    "n=2 (bigram), and the sentence is length N=5 (including two start tokens and one\n",
    "end token).  So the index positions are <code>[0,1,2,3,4]</code>.  The largest\n",
    "index 'i' where a bigram can start is at position i=3, because the word tokens\n",
    "at position 3 and 4 will form the bigram. </li>\n",
    "    <li>Remember that the <code>range()</code> function excludes the value that\n",
    "is used for the maximum of the range.  <code> range(3) </code> produces (0,1,2)\n",
    "but excludes 3. </li>\n",
    "</ul>\n",
    "</p>"
   ]
  },
  {
   "cell_type": "code",
   "execution_count": null,
   "metadata": {},
   "outputs": [],
   "source": [
    "# UNQ_C8 (UNIQUE CELL IDENTIFIER, DO NOT EDIT)\n",
    "### GRADED FUNCTION: count_n_grams ###\n",
    "def count_n_grams(data, n, start_token=\"<s>\", end_token=\"<e>\"):\n",
    "    \"\"\"\n",
    "    Count all n-grams in the data.\n",
    "\n",
    "    Arguments:\n",
    "    data: List of lists of tokens.\n",
    "    n: Number of tokens in a sequence.\n",
    "    start_token: Start token.\n",
    "    end_token: End token.\n",
    "\n",
    "    Returns:\n",
    "    n_grams: Dictionary mapping a tuple of n words to its frequency.\n",
    "    \"\"\"\n",
    "\n",
    "    # Initialize dictionary of n-grams and their counts:\n",
    "    n_grams = {}\n",
    "\n",
    "    # Go through each sentence in the data:\n",
    "    for sentence in data:\n",
    "\n",
    "        # Prepend start token n times:\n",
    "        sentence = n * [start_token] + sentence\n",
    "\n",
    "        # Append end token one time:\n",
    "        sentence.append(end_token)\n",
    "\n",
    "        # Convert list to tuple:\n",
    "        sentence = tuple(sentence)\n",
    "\n",
    "        # Use i to indicate the start of the n-gram.\n",
    "\n",
    "        # Last allowed value of i:\n",
    "        last_i = len(sentence) - n\n",
    "\n",
    "        for i in range(last_i + 1):\n",
    "\n",
    "            # Get the n-gram from i to i + n:\n",
    "            n_gram = sentence[i:i + n]\n",
    "\n",
    "            # Check if the n-gram is in the dictionary:\n",
    "            if n_gram in n_grams:\n",
    "                # Increment the count for this n-gram:\n",
    "                n_grams[n_gram] += 1\n",
    "            else:\n",
    "                # Initialize the count for this n-gram:\n",
    "                n_grams[n_gram] = 1\n",
    "\n",
    "    return n_grams"
   ]
  },
  {
   "cell_type": "code",
   "execution_count": null,
   "metadata": {},
   "outputs": [],
   "source": [
    "# Test the function:\n",
    "sentences = [\n",
    "    [\"i\", \"like\", \"a\", \"cat\"],\n",
    "    [\"this\", \"dog\", \"is\", \"like\", \"a\", \"cat\"]\n",
    "]\n",
    "print(\"Uni-gram:\")\n",
    "print(count_n_grams(sentences, 1))\n",
    "print(\"Bi-gram:\")\n",
    "print(count_n_grams(sentences, 2))"
   ]
  },
  {
   "cell_type": "markdown",
   "metadata": {},
   "source": [
    "Expected outcome:"
   ]
  },
  {
   "cell_type": "code",
   "execution_count": null,
   "metadata": {
    "attributes": {
     "classes": [
      "CPP"
     ],
     "id": ""
    }
   },
   "outputs": [],
   "source": [
    "Uni-gram:\n",
    "{('<s>',): 2, ('i',): 1, ('like',): 2, ('a',): 2, ('cat',): 2, ('<e>',): 2,\n",
    "('this',): 1, ('dog',): 1, ('is',): 1}\n",
    "Bi-gram:\n",
    "{('<s>', '<s>'): 2, ('<s>', 'i'): 1, ('i', 'like'): 1, ('like', 'a'): 2, ('a',\n",
    "'cat'): 2, ('cat', '<e>'): 2, ('<s>', 'this'): 1, ('this', 'dog'): 1, ('dog',\n",
    "'is'): 1, ('is', 'like'): 1}"
   ]
  },
  {
   "cell_type": "markdown",
   "metadata": {},
   "source": [
    "<a name='ex-09'></a>\n",
    "### Exercise 09\n",
    "\n",
    "Next, estimate the probability of a word given the prior 'n' words using the\n",
    "n-gram counts.\n",
    "\n",
    "$$ \\hat{P}(w_t | w_{t-1}\\dots w_{t-n}) = \\frac{C(w_{t-1}\\dots w_{t-n},\n",
    "w_n)}{C(w_{t-1}\\dots w_{t-n})} \\tag{2} $$\n",
    "\n",
    "This formula doesn't work when a count of an n-gram is zero..\n",
    "- Suppose we encounter an n-gram that did not occur in the training data.\n",
    "- Then, the equation (2) cannot be evaluated (it becomes zero divided by zero).\n",
    "\n",
    "A way to handle zero counts is to add k-smoothing.\n",
    "- K-smoothing adds a positive constant $k$ to each numerator and $k \\times |V|$\n",
    "in the denominator, where $|V|$ is the number of words in the vocabulary.\n",
    "\n",
    "$$ \\hat{P}(w_t | w_{t-1}\\dots w_{t-n}) = \\frac{C(w_{t-1}\\dots w_{t-n}, w_n) +\n",
    "k}{C(w_{t-1}\\dots w_{t-n}) + k|V|} \\tag{3} $$\n",
    "\n",
    "\n",
    "For n-grams that have a zero count, the equation (3) becomes $\\frac{1}{|V|}$.\n",
    "- This means that any n-gram with zero count has the same probability of\n",
    "$\\frac{1}{|V|}$.\n",
    "\n",
    "Define a function that computes the probability estimate (3) from n-gram counts\n",
    "and a constant $k$.\n",
    "\n",
    "- The function takes in a dictionary 'n_gram_counts', where the key is the\n",
    "n-gram and the value is the count of that n-gram.\n",
    "- The function also takes another dictionary n_plus1_gram_counts, which you'll\n",
    "use to find the count for the previous n-gram plus the current word.\n",
    "\n",
    "<details>\n",
    "<summary>\n",
    "    <font size=\"3\" color=\"darkgreen\"><b>Hints</b></font>\n",
    "</summary>\n",
    "<p>\n",
    "<ul>\n",
    "    <li>To define a tuple containing a single value, add a comma after that\n",
    "value.  For example: <code>('apple',)</code> is a tuple containing a single\n",
    "string 'apple' </li>\n",
    "    <li>To concatenate two tuples, use the '+' operator</li>\n",
    "    <li><a href=\"\" > words </a> </li>\n",
    "</ul>\n",
    "</p>"
   ]
  },
  {
   "cell_type": "code",
   "execution_count": null,
   "metadata": {},
   "outputs": [],
   "source": [
    "# UNQ_C9 (UNIQUE CELL IDENTIFIER, DO NOT EDIT)\n",
    "### GRADED FUNCTION: estimate_probability ###\n",
    "def estimate_probability(\n",
    "    word, previous_n_gram, n_gram_counts, n_plus1_gram_counts, vocabulary_size, k=1.0\n",
    "):\n",
    "    \"\"\"\n",
    "    Estimate the probability of the next word using the n-gram counts and k-smoothing.\n",
    "\n",
    "    Arguments:\n",
    "    word: Next word.\n",
    "    previous_n_gram: Sequence (length n) of words.\n",
    "    n_gram_counts: Dictionary of counts of n-grams.\n",
    "    n_plus1_gram_counts: Dictionary of counts of (n + 1)-grams.\n",
    "    vocabulary_size: Number of words in the vocabulary.\n",
    "    k: Positive constant, smoothing parameter.\n",
    "\n",
    "    Returns:\n",
    "    probability: Probability of the next word.\n",
    "    \"\"\"\n",
    "\n",
    "    # Convert previous_n_gram to a tuple (to use it as a dictionary key):\n",
    "    previous_n_gram = tuple(previous_n_gram)\n",
    "\n",
    "    # If the previous n-gram exists in the dictionary of n-gram counts, get its count.\n",
    "    # Otherwise, set the count to zero.\n",
    "    previous_n_gram_count = n_gram_counts.get(previous_n_gram, 0)\n",
    "\n",
    "    # Calculate the denominator:\n",
    "    denominator = previous_n_gram_count + k * vocabulary_size\n",
    "\n",
    "    # Define the (n + 1)-gram as the previous n-gram plus the current word (as a tuple):\n",
    "    n_plus1_gram = previous_n_gram + (word,)\n",
    "\n",
    "    # If n_plus1_gram exists in the dictionary of (n + 1)-gram counts, get its count.\n",
    "    # Otherwise, set the count to zero.\n",
    "    n_plus1_gram_count = n_plus1_gram_counts.get(n_plus1_gram, 0)\n",
    "\n",
    "    # Calculate the numerator:\n",
    "    numerator = n_plus1_gram_count + k\n",
    "\n",
    "    # Calculate the probability:\n",
    "    probability = numerator / denominator\n",
    "\n",
    "    return probability"
   ]
  },
  {
   "cell_type": "code",
   "execution_count": null,
   "metadata": {},
   "outputs": [],
   "source": [
    "# Test the function:\n",
    "sentences = [\n",
    "    [\"i\", \"like\", \"a\", \"cat\"],\n",
    "    [\"this\", \"dog\", \"is\", \"like\", \"a\", \"cat\"]\n",
    "]\n",
    "unique_words = list(set(sentences[0] + sentences[1]))\n",
    "unigram_counts = count_n_grams(sentences, 1)\n",
    "bigram_counts = count_n_grams(sentences, 2)\n",
    "tmp_prob = estimate_probability(\n",
    "    \"cat\", \"a\", unigram_counts, bigram_counts, len(unique_words), k=1\n",
    ")\n",
    "print(\"The estimated probability of word 'cat' given the previous n-gram 'a' is:\")\n",
    "print(f\"{tmp_prob:.4f}\")"
   ]
  },
  {
   "cell_type": "markdown",
   "metadata": {},
   "source": [
    "##### Expected output"
   ]
  },
  {
   "cell_type": "code",
   "execution_count": null,
   "metadata": {
    "attributes": {
     "classes": [
      "CPP"
     ],
     "id": ""
    }
   },
   "outputs": [],
   "source": [
    "The estimated probability of word 'cat' given the previous n-gram 'a' is: 0.3333"
   ]
  },
  {
   "cell_type": "markdown",
   "metadata": {},
   "source": [
    "### Estimate probabilities for all words\n",
    "\n",
    "The function defined below loops over all words in vocabulary to calculate\n",
    "probabilities for all possible words.\n",
    "- This function is provided for you."
   ]
  },
  {
   "cell_type": "code",
   "execution_count": null,
   "metadata": {},
   "outputs": [],
   "source": [
    "def estimate_probabilities(\n",
    "    previous_n_gram, n_gram_counts, n_plus1_gram_counts, vocabulary, k=1.0\n",
    "):\n",
    "    \"\"\"\n",
    "    Estimate the probabilities of next words using the n-gram counts and k-smoothing.\n",
    "\n",
    "    Arguments:\n",
    "    previous_n_gram: Sequence (length n) of words.\n",
    "    n_gram_counts: Dictionary of counts of n-grams.\n",
    "    n_plus1_gram_counts: Dictionary of counts of (n + 1)-grams.\n",
    "    vocabulary: List of words in the vocabulary.\n",
    "    k: Positive constant, smoothing parameter.\n",
    "\n",
    "    Returns:\n",
    "    probabilities: Dictionary mapping next words to their probabilities.\n",
    "    \"\"\"\n",
    "\n",
    "    # Convert previous_n_gram to a tuple (to use it as a dictionary key):\n",
    "    previous_n_gram = tuple(previous_n_gram)\n",
    "\n",
    "    # Add the end token and the unknown token (\"<e>\" and \"<unk>\") to the vocabulary.\n",
    "    # The start token (\"<s>\") is not needed since it should not appear as the next word.\n",
    "    vocabulary = vocabulary + [\"<e>\", \"<unk>\"]\n",
    "    vocabulary_size = len(vocabulary)\n",
    "\n",
    "    probabilities = {}\n",
    "    for word in vocabulary:\n",
    "        probability = estimate_probability(\n",
    "            word, previous_n_gram, n_gram_counts, n_plus1_gram_counts, vocabulary_size, k=k\n",
    "        )\n",
    "        probabilities[word] = probability\n",
    "\n",
    "    return probabilities"
   ]
  },
  {
   "cell_type": "code",
   "execution_count": null,
   "metadata": {},
   "outputs": [],
   "source": [
    "# Test the function:\n",
    "sentences = [\n",
    "    [\"i\", \"like\", \"a\", \"cat\"],\n",
    "    [\"this\", \"dog\", \"is\", \"like\", \"a\", \"cat\"]\n",
    "]\n",
    "unique_words = list(set(sentences[0] + sentences[1]))\n",
    "unigram_counts = count_n_grams(sentences, 1)\n",
    "bigram_counts = count_n_grams(sentences, 2)\n",
    "estimate_probabilities(\"a\", unigram_counts, bigram_counts, unique_words, k=1)"
   ]
  },
  {
   "cell_type": "markdown",
   "metadata": {},
   "source": [
    "##### Expected output"
   ]
  },
  {
   "cell_type": "code",
   "execution_count": null,
   "metadata": {
    "attributes": {
     "classes": [
      "CPP"
     ],
     "id": ""
    }
   },
   "outputs": [],
   "source": [
    "{'cat': 0.2727272727272727,\n",
    " 'i': 0.09090909090909091,\n",
    " 'this': 0.09090909090909091,\n",
    " 'a': 0.09090909090909091,\n",
    " 'is': 0.09090909090909091,\n",
    " 'like': 0.09090909090909091,\n",
    " 'dog': 0.09090909090909091,\n",
    " '<e>': 0.09090909090909091,\n",
    " '<unk>': 0.09090909090909091}"
   ]
  },
  {
   "cell_type": "code",
   "execution_count": null,
   "metadata": {},
   "outputs": [],
   "source": [
    "# Additional test:\n",
    "trigram_counts = count_n_grams(sentences, 3)\n",
    "estimate_probabilities([\"<s>\", \"<s>\"], bigram_counts, trigram_counts, unique_words, k=1)"
   ]
  },
  {
   "cell_type": "markdown",
   "metadata": {},
   "source": [
    "##### Expected output"
   ]
  },
  {
   "cell_type": "code",
   "execution_count": null,
   "metadata": {
    "attributes": {
     "classes": [
      "CPP"
     ],
     "id": ""
    }
   },
   "outputs": [],
   "source": [
    "{'cat': 0.09090909090909091,\n",
    " 'i': 0.18181818181818182,\n",
    " 'this': 0.18181818181818182,\n",
    " 'a': 0.09090909090909091,\n",
    " 'is': 0.09090909090909091,\n",
    " 'like': 0.09090909090909091,\n",
    " 'dog': 0.09090909090909091,\n",
    " '<e>': 0.09090909090909091,\n",
    " '<unk>': 0.09090909090909091}"
   ]
  },
  {
   "cell_type": "markdown",
   "metadata": {},
   "source": [
    "### Count and probability matrices\n",
    "\n",
    "As we have seen so far, the n-gram counts computed above are sufficient for\n",
    "computing the probabilities of the next word.\n",
    "- It can be more intuitive to present them as count or probability matrices.\n",
    "- The functions defined in the next cells return count or probability matrices.\n",
    "- This function is provided for you."
   ]
  },
  {
   "cell_type": "code",
   "execution_count": null,
   "metadata": {},
   "outputs": [],
   "source": [
    "def make_count_matrix(n_plus1_gram_counts, vocabulary):\n",
    "\n",
    "    # Add the end token and the unknown token (\"<e>\" and \"<unk>\") to the vocabulary.\n",
    "    # The start token (\"<s>\") is not needed since it should not appear as the next word.\n",
    "    vocabulary = vocabulary + [\"<e>\", \"<unk>\"]\n",
    "\n",
    "    # Obtain unique n-grams:\n",
    "    n_grams = []\n",
    "    for n_plus1_gram in n_plus1_gram_counts:\n",
    "        n_gram = n_plus1_gram[:-1]\n",
    "        n_grams.append(n_gram)\n",
    "    n_grams = list(set(n_grams))\n",
    "\n",
    "    # Mapping n-gram to row:\n",
    "    row_index = {n_gram: i for i, n_gram in enumerate(n_grams)}\n",
    "    # Mapping next word to column:\n",
    "    col_index = {word: j for j, word in enumerate(vocabulary)}\n",
    "\n",
    "    nrow = len(n_grams)\n",
    "    ncol = len(vocabulary)\n",
    "    count_matrix = np.zeros((nrow, ncol))\n",
    "\n",
    "    for n_plus1_gram, count in n_plus1_gram_counts.items():\n",
    "        n_gram = n_plus1_gram[:-1]\n",
    "        word = n_plus1_gram[-1]\n",
    "        if word not in vocabulary:\n",
    "            continue\n",
    "        i = row_index[n_gram]\n",
    "        j = col_index[word]\n",
    "        count_matrix[i, j] = count\n",
    "    count_matrix = pd.DataFrame(count_matrix, index=n_grams, columns=vocabulary)\n",
    "\n",
    "    return count_matrix"
   ]
  },
  {
   "cell_type": "code",
   "execution_count": null,
   "metadata": {},
   "outputs": [],
   "source": [
    "sentences = [\n",
    "    [\"i\", \"like\", \"a\", \"cat\"],\n",
    "    [\"this\", \"dog\", \"is\", \"like\", \"a\", \"cat\"]\n",
    "]\n",
    "unique_words = list(set(sentences[0] + sentences[1]))\n",
    "bigram_counts = count_n_grams(sentences, 2)\n",
    "print(\"bigram counts\")\n",
    "display(make_count_matrix(bigram_counts, unique_words))"
   ]
  },
  {
   "cell_type": "markdown",
   "metadata": {},
   "source": [
    "##### Expected output"
   ]
  },
  {
   "cell_type": "code",
   "execution_count": null,
   "metadata": {
    "attributes": {
     "classes": [
      "CPP"
     ],
     "id": ""
    }
   },
   "outputs": [],
   "source": [
    "bigram counts\n",
    "          cat    i   this   a  is   like  dog  <e>   <unk>\n",
    "(<s>,)    0.0   1.0  1.0  0.0  0.0  0.0   0.0  0.0    0.0\n",
    "(a,)      2.0   0.0  0.0  0.0  0.0  0.0   0.0  0.0    0.0\n",
    "(this,)   0.0   0.0  0.0  0.0  0.0  0.0   1.0  0.0    0.0\n",
    "(like,)   0.0   0.0  0.0  2.0  0.0  0.0   0.0  0.0    0.0\n",
    "(dog,)    0.0   0.0  0.0  0.0  1.0  0.0   0.0  0.0    0.0\n",
    "(cat,)    0.0   0.0  0.0  0.0  0.0  0.0   0.0  2.0    0.0\n",
    "(is,)     0.0   0.0  0.0  0.0  0.0  1.0   0.0  0.0    0.0\n",
    "(i,)      0.0   0.0  0.0  0.0  0.0  1.0   0.0  0.0    0.0"
   ]
  },
  {
   "cell_type": "code",
   "execution_count": null,
   "metadata": {},
   "outputs": [],
   "source": [
    "trigram_counts = count_n_grams(sentences, 3)\n",
    "print(\"trigram counts\")\n",
    "display(make_count_matrix(trigram_counts, unique_words))"
   ]
  },
  {
   "cell_type": "markdown",
   "metadata": {},
   "source": [
    "##### Expected output"
   ]
  },
  {
   "cell_type": "code",
   "execution_count": null,
   "metadata": {
    "attributes": {
     "classes": [
      "CPP"
     ],
     "id": ""
    }
   },
   "outputs": [],
   "source": [
    "trigram counts\n",
    "              cat    i   this   a  is   like  dog  <e>   <unk>\n",
    "(dog, is)     0.0   0.0  0.0  0.0  0.0  1.0   0.0  0.0    0.0\n",
    "(this, dog)   0.0   0.0  0.0  0.0  1.0  0.0   0.0  0.0    0.0\n",
    "(a, cat)      0.0   0.0  0.0  0.0  0.0  0.0   0.0  2.0    0.0\n",
    "(like, a)     2.0   0.0  0.0  0.0  0.0  0.0   0.0  0.0    0.0\n",
    "(is, like)    0.0   0.0  0.0  1.0  0.0  0.0   0.0  0.0    0.0\n",
    "(<s>, i)      0.0   0.0  0.0  0.0  0.0  1.0   0.0  0.0    0.0\n",
    "(i, like)     0.0   0.0  0.0  1.0  0.0  0.0   0.0  0.0    0.0\n",
    "(<s>, <s>)    0.0   1.0  1.0  0.0  0.0  0.0   0.0  0.0    0.0\n",
    "(<s>, this)   0.0   0.0  0.0  0.0  0.0  0.0   1.0  0.0    0.0"
   ]
  },
  {
   "cell_type": "markdown",
   "metadata": {},
   "source": [
    "The following function calculates the probabilities of each word given the\n",
    "previous n-gram, and stores this in matrix form.\n",
    "- This function is provided for you."
   ]
  },
  {
   "cell_type": "code",
   "execution_count": null,
   "metadata": {},
   "outputs": [],
   "source": [
    "def make_probability_matrix(n_plus1_gram_counts, vocabulary, k):\n",
    "\n",
    "    count_matrix = make_count_matrix(n_plus1_gram_counts, vocabulary)\n",
    "    count_matrix += k\n",
    "    prob_matrix = count_matrix.div(count_matrix.sum(axis=1), axis=0)\n",
    "\n",
    "    return prob_matrix"
   ]
  },
  {
   "cell_type": "code",
   "execution_count": null,
   "metadata": {},
   "outputs": [],
   "source": [
    "sentences = [\n",
    "    [\"i\", \"like\", \"a\", \"cat\"],\n",
    "    [\"this\", \"dog\", \"is\", \"like\", \"a\", \"cat\"]\n",
    "]\n",
    "unique_words = list(set(sentences[0] + sentences[1]))\n",
    "bigram_counts = count_n_grams(sentences, 2)\n",
    "print(\"bigram probabilities\")\n",
    "display(make_probability_matrix(bigram_counts, unique_words, 1))"
   ]
  },
  {
   "cell_type": "code",
   "execution_count": null,
   "metadata": {},
   "outputs": [],
   "source": [
    "trigram_counts = count_n_grams(sentences, 3)\n",
    "print(\"trigram probabilities\")\n",
    "display(make_probability_matrix(trigram_counts, unique_words, 1))"
   ]
  },
  {
   "cell_type": "markdown",
   "metadata": {},
   "source": [
    "Confirm that you obtain the same results as for the `estimate_probabilities`\n",
    "function that you implemented.\n",
    "\n",
    "<a name='3'></a>\n",
    "## Part 3: Perplexity\n",
    "\n",
    "In this section, you will generate the perplexity score to evaluate your model\n",
    "on the test set.\n",
    "- You will also use back-off when needed.\n",
    "- Perplexity is used as an evaluation metric of your language model.\n",
    "- To calculate the  the perplexity score of the test set on an n-gram model,\n",
    "use:\n",
    "\n",
    "$$ PP(W) =\\sqrt[N]{ \\prod_{t=n+1}^N \\frac{1}{P(w_t | w_{t-n} \\cdots w_{t-1})} }\n",
    "\\tag{4}$$\n",
    "\n",
    "- where $N$ is the length of the sentence.\n",
    "- $n$ is the number of words in the n-gram (e.g. 2 for a bigram).\n",
    "- In math, the numbering starts at one and not zero.\n",
    "\n",
    "In code, array indexing starts at zero, so the code will use ranges for $t$\n",
    "according to this formula:\n",
    "\n",
    "$$ PP(W) =\\sqrt[N]{ \\prod_{t=n}^{N-1} \\frac{1}{P(w_t | w_{t-n} \\cdots w_{t-1})}\n",
    "} \\tag{4.1}$$\n",
    "\n",
    "The higher the probabilities are, the lower the perplexity will be.\n",
    "- The more the n-grams tell us about the sentence, the lower the perplexity\n",
    "score will be.\n",
    "\n",
    "<a name='ex-10'></a>\n",
    "### Exercise 10\n",
    "Compute the perplexity score given an N-gram count matrix and a sentence.\n",
    "\n",
    "<details>\n",
    "<summary>\n",
    "    <font size=\"3\" color=\"darkgreen\"><b>Hints</b></font>\n",
    "</summary>\n",
    "<p>\n",
    "<ul>\n",
    "    <li>Remember that <code>range(2,4)</code> produces the integers [2, 3] (and\n",
    "excludes 4).</li>\n",
    "</ul>\n",
    "</p>"
   ]
  },
  {
   "cell_type": "code",
   "execution_count": null,
   "metadata": {},
   "outputs": [],
   "source": [
    "# UNQ_C10 (UNIQUE CELL IDENTIFIER, DO NOT EDIT)\n",
    "# GRADED FUNCTION: calculate_perplexity\n",
    "def calculate_perplexity(sentence, n_gram_counts, n_plus1_gram_counts, vocabulary_size, k=1.0):\n",
    "    \"\"\"\n",
    "    Calculate the perplexity score.\n",
    "\n",
    "    Arguments:\n",
    "    sentence: List of tokens.\n",
    "    n_gram_counts: Dictionary of counts of n-grams.\n",
    "    n_plus1_gram_counts: Dictionary of counts of (n + 1)-grams.\n",
    "    vocabulary_size: Number of words in the vocabulary.\n",
    "    k: Positive constant, smoothing parameter.\n",
    "\n",
    "    Returns:\n",
    "    perplexity: Perplexity score.\n",
    "    \"\"\"\n",
    "\n",
    "    # Length of previous words:\n",
    "    n = len(list(n_gram_counts.keys())[0])\n",
    "\n",
    "    # Prepend start token n times:\n",
    "    sentence = n * [\"<s>\"] + sentence\n",
    "\n",
    "    # Append end token one time:\n",
    "    sentence.append(\"<e>\")\n",
    "\n",
    "    # Convert list to tuple:\n",
    "    sentence = tuple(sentence)\n",
    "\n",
    "    # Length of sentence (after adding \"<s>\" and \"<e>\" tokens):\n",
    "    N = len(sentence)\n",
    "\n",
    "    # Initialize the variable that will hold the product inside the N-th root:\n",
    "    product_pi = 1.0\n",
    "\n",
    "    # Index t ranges from n to N - 1, both inclusive:\n",
    "    for t in range(n, N):\n",
    "\n",
    "        # Get the n-gram preceding the word at position t:\n",
    "        n_gram = sentence[t - n:t]\n",
    "\n",
    "        # Get the word at position t:\n",
    "        word = sentence[t]\n",
    "\n",
    "        # Estimate the probability of the word given the n-gram:\n",
    "        probability = estimate_probability(\n",
    "            word, n_gram, n_gram_counts, n_plus1_gram_counts, vocabulary_size, k=k\n",
    "        )\n",
    "\n",
    "        # Update the product of the probabilities:\n",
    "        product_pi *= probability\n",
    "\n",
    "    # Calculate the perplexity score:\n",
    "    perplexity = product_pi ** (-1 / N)\n",
    "\n",
    "    return perplexity"
   ]
  },
  {
   "cell_type": "code",
   "execution_count": null,
   "metadata": {},
   "outputs": [],
   "source": [
    "# Test the function:\n",
    "sentences = [\n",
    "    [\"i\", \"like\", \"a\", \"cat\"],\n",
    "    [\"this\", \"dog\", \"is\", \"like\", \"a\", \"cat\"]\n",
    "]\n",
    "unique_words = list(set(sentences[0] + sentences[1]))\n",
    "unigram_counts = count_n_grams(sentences, 1)\n",
    "bigram_counts = count_n_grams(sentences, 2)\n",
    "\n",
    "perplexity_train1 = calculate_perplexity(\n",
    "    sentences[0], unigram_counts, bigram_counts, len(unique_words), k=1.0\n",
    ")\n",
    "print(f\"Perplexity for the first training sample: {perplexity_train1:.4f}\")\n",
    "\n",
    "test_sentence = [\"i\", \"like\", \"a\", \"dog\"]\n",
    "perplexity_test = calculate_perplexity(\n",
    "    test_sentence, unigram_counts, bigram_counts, len(unique_words), k=1.0\n",
    ")\n",
    "print(f\"Perplexity for the test sample: {perplexity_test:.4f}\")"
   ]
  },
  {
   "cell_type": "markdown",
   "metadata": {},
   "source": [
    "### Expected Output"
   ]
  },
  {
   "cell_type": "code",
   "execution_count": null,
   "metadata": {
    "attributes": {
     "classes": [
      "CPP"
     ],
     "id": ""
    }
   },
   "outputs": [],
   "source": [
    "Perplexity for first train sample: 2.8040\n",
    "Perplexity for test sample: 3.9654"
   ]
  },
  {
   "cell_type": "markdown",
   "metadata": {},
   "source": [
    "<b> Note: </b> If your sentence is really long, there will be underflow when\n",
    "multiplying many fractions.\n",
    "- To handle longer sentences, modify your implementation to take the sum of the\n",
    "log of the probabilities.\n",
    "\n",
    "<a name='4'></a>\n",
    "## Part 4: Build an auto-complete system\n",
    "\n",
    "In this section, you will combine the language models developed so far to\n",
    "implement an auto-complete system.\n",
    "\n",
    "<a name='ex-11'></a>\n",
    "### Exercise 11\n",
    "Compute probabilities for all possible next words and suggest the most likely\n",
    "one.\n",
    "- This function also take an optional argument `start_with`, which specifies the\n",
    "first few letters of the next words.\n",
    "\n",
    "<details>\n",
    "<summary>\n",
    "    <font size=\"3\" color=\"darkgreen\"><b>Hints</b></font>\n",
    "</summary>\n",
    "<p>\n",
    "<ul>\n",
    "    <li><code>estimate_probabilities</code> returns a dictionary where the key\n",
    "is a word and the value is the word's probability.</li>\n",
    "    <li> Use <code>str1.startswith(str2)</code> to determine if a string starts\n",
    "with the letters of another string.  For example,\n",
    "<code>'learning'.startswith('lea')</code> returns True, whereas\n",
    "<code>'learning'.startswith('ear')</code> returns False. There are two\n",
    "additional parameters in <code>str.startswith()</code>, but you can use the\n",
    "default values for those parameters in this case.</li>\n",
    "</ul>\n",
    "</p>"
   ]
  },
  {
   "cell_type": "code",
   "execution_count": null,
   "metadata": {},
   "outputs": [],
   "source": [
    "# UNQ_C11 (UNIQUE CELL IDENTIFIER, DO NOT EDIT)\n",
    "# GRADED FUNCTION: suggest_a_word\n",
    "def suggest_a_word(\n",
    "    previous_tokens, n_gram_counts, n_plus1_gram_counts, vocabulary, k=1.0, start_with=None\n",
    "):\n",
    "    \"\"\"\n",
    "    Get a suggestion for the next word.\n",
    "\n",
    "    Arguments:\n",
    "    previous_tokens: Input sentence. Must have length > n. Each token is a word.\n",
    "    n_gram_counts: Dictionary of counts of n-grams.\n",
    "    n_plus1_gram_counts: Dictionary of counts of (n + 1)-grams.\n",
    "    vocabulary: List of words in the vocabulary.\n",
    "    k: Positive constant, smoothing parameter.\n",
    "    start_with: If not None, specifies the first few letters of the next word.\n",
    "\n",
    "    Returns:\n",
    "    suggestion: Most likely next word.\n",
    "    max_prob: Corresponding probability.\n",
    "    \"\"\"\n",
    "\n",
    "    # Length of previous words:\n",
    "    n = len(list(n_gram_counts.keys())[0])\n",
    "\n",
    "    # From the words the user typed, get the n most recent words as the previous n-gram:\n",
    "    previous_n_gram = previous_tokens[-n:]\n",
    "\n",
    "    # Estimate the probabilities that each word in the vocabulary is the next word:\n",
    "    probabilities = estimate_probabilities(\n",
    "        previous_n_gram, n_gram_counts, n_plus1_gram_counts, vocabulary, k=k\n",
    "    )\n",
    "\n",
    "    # Initialize the suggested word to None:\n",
    "    suggestion = None\n",
    "\n",
    "    # Initialize the highest word probability to 0:\n",
    "    max_prob = 0\n",
    "\n",
    "    # For each word and its probability in probabilities:\n",
    "    for word, prob in probabilities.items():\n",
    "\n",
    "        # If start_with is set:\n",
    "        if start_with is not None:\n",
    "\n",
    "            # Check if the beginning of word does not match the letters in start_with:\n",
    "            if word.startswith(start_with) == False:\n",
    "\n",
    "                # Skip this word:\n",
    "                continue\n",
    "\n",
    "        # Check if this word's probability > current maximum probability:\n",
    "        if prob > max_prob:\n",
    "\n",
    "            # If so, save this word as the best suggestion (so far):\n",
    "            suggestion = word\n",
    "\n",
    "            # Save the new maximum probability:\n",
    "            max_prob = prob\n",
    "\n",
    "    return suggestion, max_prob"
   ]
  },
  {
   "cell_type": "code",
   "execution_count": null,
   "metadata": {},
   "outputs": [],
   "source": [
    "# test your code\n",
    "sentences = [['i', 'like', 'a', 'cat'],\n",
    "             ['this', 'dog', 'is', 'like', 'a', 'cat']]\n",
    "unique_words = list(set(sentences[0] + sentences[1]))\n",
    "\n",
    "unigram_counts = count_n_grams(sentences, 1)\n",
    "bigram_counts = count_n_grams(sentences, 2)\n",
    "\n",
    "previous_tokens = [\"i\", \"like\"]\n",
    "tmp_suggest1 = suggest_a_word(previous_tokens, unigram_counts, bigram_counts, unique_words, k=1.0)\n",
    "print(f\"The previous words are 'i like',\\n\\tand the suggested word is `{tmp_suggest1[0]}` with a probability of {tmp_suggest1[1]:.4f}\")\n",
    "\n",
    "print()\n",
    "# test your code when setting the starts_with\n",
    "tmp_starts_with = 'c'\n",
    "tmp_suggest2 = suggest_a_word(previous_tokens, unigram_counts, bigram_counts, unique_words, k=1.0, start_with=tmp_starts_with)\n",
    "print(f\"The previous words are 'i like', the suggestion must start with `{tmp_starts_with}`\\n\\tand the suggested word is `{tmp_suggest2[0]}` with a probability of {tmp_suggest2[1]:.4f}\")"
   ]
  },
  {
   "cell_type": "markdown",
   "metadata": {},
   "source": [
    "### Expected output"
   ]
  },
  {
   "cell_type": "code",
   "execution_count": null,
   "metadata": {
    "attributes": {
     "classes": [
      "CPP"
     ],
     "id": ""
    }
   },
   "outputs": [],
   "source": [
    "The previous words are 'i like',\n",
    "\tand the suggested word is `a` with a probability of 0.2727\n",
    "\n",
    "The previous words are 'i like', the suggestion must start with `c`\n",
    "\tand the suggested word is `cat` with a probability of 0.0909\n"
   ]
  },
  {
   "cell_type": "markdown",
   "metadata": {},
   "source": [
    "### Get multiple suggestions\n",
    "\n",
    "The function defined below loop over various n-gram models to get multiple\n",
    "suggestions."
   ]
  },
  {
   "cell_type": "code",
   "execution_count": null,
   "metadata": {},
   "outputs": [],
   "source": [
    "def get_suggestions(previous_tokens, n_gram_counts_list, vocabulary, k=1.0, start_with=None):\n",
    "    model_counts = len(n_gram_counts_list)\n",
    "    suggestions = []\n",
    "    for i in range(model_counts-1):\n",
    "        n_gram_counts = n_gram_counts_list[i]\n",
    "        n_plus1_gram_counts = n_gram_counts_list[i+1]\n",
    "\n",
    "        suggestion = suggest_a_word(previous_tokens, n_gram_counts,\n",
    "                                    n_plus1_gram_counts, vocabulary,\n",
    "                                    k=k, start_with=start_with)\n",
    "        suggestions.append(suggestion)\n",
    "    return suggestions"
   ]
  },
  {
   "cell_type": "code",
   "execution_count": null,
   "metadata": {},
   "outputs": [],
   "source": [
    "# test your code\n",
    "sentences = [['i', 'like', 'a', 'cat'],\n",
    "             ['this', 'dog', 'is', 'like', 'a', 'cat']]\n",
    "unique_words = list(set(sentences[0] + sentences[1]))\n",
    "\n",
    "unigram_counts = count_n_grams(sentences, 1)\n",
    "bigram_counts = count_n_grams(sentences, 2)\n",
    "trigram_counts = count_n_grams(sentences, 3)\n",
    "quadgram_counts = count_n_grams(sentences, 4)\n",
    "qintgram_counts = count_n_grams(sentences, 5)\n",
    "\n",
    "n_gram_counts_list = [unigram_counts, bigram_counts, trigram_counts, quadgram_counts, qintgram_counts]\n",
    "previous_tokens = [\"i\", \"like\"]\n",
    "tmp_suggest3 = get_suggestions(previous_tokens, n_gram_counts_list, unique_words, k=1.0)\n",
    "\n",
    "print(f\"The previous words are 'i like', the suggestions are:\")\n",
    "display(tmp_suggest3)"
   ]
  },
  {
   "cell_type": "markdown",
   "metadata": {},
   "source": [
    "### Suggest multiple words using n-grams of varying length\n",
    "\n",
    "Congratulations!  You have developed all building blocks for implementing your\n",
    "own auto-complete systems.\n",
    "\n",
    "Let's see this with n-grams of varying lengths (unigrams, bigrams, trigrams,\n",
    "4-grams...6-grams)."
   ]
  },
  {
   "cell_type": "code",
   "execution_count": null,
   "metadata": {},
   "outputs": [],
   "source": [
    "n_gram_counts_list = []\n",
    "for n in range(1, 6):\n",
    "    print(\"Computing n-gram counts with n =\", n, \"...\")\n",
    "    n_model_counts = count_n_grams(train_data_processed, n)\n",
    "    n_gram_counts_list.append(n_model_counts)"
   ]
  },
  {
   "cell_type": "code",
   "execution_count": null,
   "metadata": {},
   "outputs": [],
   "source": [
    "previous_tokens = [\"i\", \"am\", \"to\"]\n",
    "tmp_suggest4 = get_suggestions(previous_tokens, n_gram_counts_list, vocabulary, k=1.0)\n",
    "\n",
    "print(f\"The previous words are {previous_tokens}, the suggestions are:\")\n",
    "display(tmp_suggest4)"
   ]
  },
  {
   "cell_type": "code",
   "execution_count": null,
   "metadata": {},
   "outputs": [],
   "source": [
    "previous_tokens = [\"i\", \"want\", \"to\", \"go\"]\n",
    "tmp_suggest5 = get_suggestions(previous_tokens, n_gram_counts_list, vocabulary, k=1.0)\n",
    "\n",
    "print(f\"The previous words are {previous_tokens}, the suggestions are:\")\n",
    "display(tmp_suggest5)"
   ]
  },
  {
   "cell_type": "code",
   "execution_count": null,
   "metadata": {},
   "outputs": [],
   "source": [
    "previous_tokens = [\"hey\", \"how\", \"are\"]\n",
    "tmp_suggest6 = get_suggestions(previous_tokens, n_gram_counts_list, vocabulary, k=1.0)\n",
    "\n",
    "print(f\"The previous words are {previous_tokens}, the suggestions are:\")\n",
    "display(tmp_suggest6)"
   ]
  },
  {
   "cell_type": "code",
   "execution_count": null,
   "metadata": {},
   "outputs": [],
   "source": [
    "previous_tokens = [\"hey\", \"how\", \"are\", \"you\"]\n",
    "tmp_suggest7 = get_suggestions(previous_tokens, n_gram_counts_list, vocabulary, k=1.0)\n",
    "\n",
    "print(f\"The previous words are {previous_tokens}, the suggestions are:\")\n",
    "display(tmp_suggest7)"
   ]
  },
  {
   "cell_type": "code",
   "execution_count": null,
   "metadata": {},
   "outputs": [],
   "source": [
    "previous_tokens = [\"hey\", \"how\", \"are\", \"you\"]\n",
    "tmp_suggest8 = get_suggestions(previous_tokens, n_gram_counts_list, vocabulary, k=1.0, start_with=\"d\")\n",
    "\n",
    "print(f\"The previous words are {previous_tokens}, the suggestions are:\")\n",
    "display(tmp_suggest8)"
   ]
  },
  {
   "cell_type": "markdown",
   "metadata": {},
   "source": [
    "# Congratulations!\n",
    "\n",
    "You've completed this assignment by building an autocomplete model using an\n",
    "n-gram language model!\n",
    "\n",
    "Please continue onto the fourth and final week of this course!"
   ]
  }
 ],
 "metadata": {},
 "nbformat": 4,
 "nbformat_minor": 4
}
